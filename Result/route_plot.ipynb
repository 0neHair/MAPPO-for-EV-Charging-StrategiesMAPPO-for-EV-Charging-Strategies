{
 "cells": [
  {
   "cell_type": "code",
   "execution_count": 53,
   "metadata": {},
   "outputs": [],
   "source": [
    "import os\n",
    "import pandas as pd\n",
    "import scipy\n",
    "import matplotlib.pyplot as plt\n",
    "from env.EV_Sce_Env import EV_Sce_Env\n",
    "import math\n",
    "import seaborn as sns\n",
    "import numpy as np\n",
    "\n",
    "env = EV_Sce_Env('SY_2', seed=0)"
   ]
  },
  {
   "cell_type": "code",
   "execution_count": 54,
   "metadata": {},
   "outputs": [],
   "source": [
    "#哈佛大学Data Science课程CS109推荐的matplotlib 默认设置\n",
    "#可以方便的设置一次，保证整体风格一致\n",
    "from matplotlib import rcParams\n",
    "# #图片大小\n",
    "# rcParams['figure.figsize'] = (10, 6)\n",
    "# #图片精度\n",
    "# rcParams['figure.dpi'] = 150\n",
    "# #线宽\n",
    "# rcParams['lines.linewidth'] = 2\n",
    "#是否显示网格\n",
    "rcParams['axes.grid'] = True\n",
    "#axes 填充颜色为浅灰\n",
    "rcParams['axes.facecolor'] = '#eeeeee'\n",
    "# #字体大小为14\n",
    "# rcParams['font.size'] = 14\n",
    "#边框为无色\n",
    "rcParams['patch.edgecolor'] = 'none'"
   ]
  },
  {
   "cell_type": "code",
   "execution_count": 55,
   "metadata": {},
   "outputs": [],
   "source": [
    "route_con = {}\n",
    "route_list = {}\n",
    "for i in range(env.agent_num):\n",
    "    ev_id = i\n",
    "    df_r = pd.read_csv('output/SY_2_T1_GH/EV/EV{}_route.csv'.format(ev_id))\n",
    "    route = list(df_r['edge'])\n",
    "    r = route[0]\n",
    "    for j in range(1, len(route)):\n",
    "        next_p = route[j].split('-')[-1]\n",
    "        r += \"-\"+next_p\n",
    "    if r not in route_con.keys():\n",
    "        route_con[r] = 1\n",
    "        route_list[r] = [ev_id]\n",
    "    else:\n",
    "        route_con[r] += 1\n",
    "        route_list[r].append(ev_id)\n",
    "GH_route = route_con\n",
    "\n",
    "route_con = {}\n",
    "route_list = {}\n",
    "for i in range(env.agent_num):\n",
    "    ev_id = i\n",
    "    df_r = pd.read_csv('output/SY_2_T1_NGH/EV/EV{}_route.csv'.format(ev_id))\n",
    "    route = list(df_r['edge'])\n",
    "    r = route[0]\n",
    "    for j in range(1, len(route)):\n",
    "        next_p = route[j].split('-')[-1]\n",
    "        r += \"-\"+next_p\n",
    "    if r not in route_con.keys():\n",
    "        route_con[r] = 1\n",
    "        route_list[r] = [ev_id]\n",
    "    else:\n",
    "        route_con[r] += 1\n",
    "        route_list[r].append(ev_id)\n",
    "NGH_route = route_con\n",
    "route_set1 = list(set(list(GH_route.keys()) + list(NGH_route.keys())))"
   ]
  },
  {
   "cell_type": "code",
   "execution_count": 56,
   "metadata": {},
   "outputs": [],
   "source": [
    "route_con = {}\n",
    "route_list = {}\n",
    "for i in range(env.agent_num):\n",
    "    ev_id = i\n",
    "    df_r = pd.read_csv('output/SY_25_T1_GH/EV/EV{}_route.csv'.format(ev_id))\n",
    "    route = list(df_r['edge'])\n",
    "    r = route[0]\n",
    "    for j in range(1, len(route)):\n",
    "        next_p = route[j].split('-')[-1]\n",
    "        r += \"-\"+next_p\n",
    "    if r not in route_con.keys():\n",
    "        route_con[r] = 1\n",
    "        route_list[r] = [ev_id]\n",
    "    else:\n",
    "        route_con[r] += 1\n",
    "        route_list[r].append(ev_id)\n",
    "GH_route2 = route_con\n",
    "\n",
    "route_con = {}\n",
    "route_list = {}\n",
    "for i in range(env.agent_num):\n",
    "    ev_id = i\n",
    "    df_r = pd.read_csv('output/SY_25_T1_NGH/EV/EV{}_route.csv'.format(ev_id))\n",
    "    route = list(df_r['edge'])\n",
    "    r = route[0]\n",
    "    for j in range(1, len(route)):\n",
    "        next_p = route[j].split('-')[-1]\n",
    "        r += \"-\"+next_p\n",
    "    if r not in route_con.keys():\n",
    "        route_con[r] = 1\n",
    "        route_list[r] = [ev_id]\n",
    "    else:\n",
    "        route_con[r] += 1\n",
    "        route_list[r].append(ev_id)\n",
    "NGH_route2 = route_con\n",
    "route_set2 = list(set(list(GH_route2.keys()) + list(NGH_route2.keys())))"
   ]
  },
  {
   "cell_type": "code",
   "execution_count": 57,
   "metadata": {},
   "outputs": [],
   "source": [
    "OD2edge = {} # O-D: 边编号\n",
    "for e in range(env.edge_index.shape[1]):\n",
    "    O = int(env.edge_index[0][e])\n",
    "    D = int(env.edge_index[1][e])\n",
    "    index = str(O) + '-' + str(D)\n",
    "    OD2edge[index] = e\n",
    "\n",
    "def route_length(r):\n",
    "    l = 0\n",
    "    pset = r.split('-')\n",
    "    for i in range(0, len(pset)-1):\n",
    "        link = pset[i] + '-' + pset[i+1]\n",
    "        l += env.edge_attr[OD2edge[link]][0]\n",
    "    return l"
   ]
  },
  {
   "cell_type": "code",
   "execution_count": 58,
   "metadata": {},
   "outputs": [],
   "source": [
    "route_set = list(set(route_set1 + route_set2))\n",
    "df_route_count = pd.DataFrame(columns=['Route', 'Route2', 'Length'])\n",
    "for i, r in enumerate(route_set):\n",
    "    df_route_count.loc[i, 'Route'] = r\n",
    "    link = r.split('-')\n",
    "    r2 = 'O'\n",
    "    for j in range(1, len(link)):\n",
    "        d = link[j]\n",
    "        if d == '19':\n",
    "            d = 'D'\n",
    "        else:\n",
    "            d = 'CS'+d\n",
    "        r2 += ('-'+d)\n",
    "    df_route_count.loc[i, 'Route2'] = r2\n",
    "    df_route_count.loc[i, 'Length'] = route_length(r)\n",
    "    i += 1\n",
    "df_route_count.sort_values(by='Length', ascending=True, inplace=True)\n",
    "df_route_count.reset_index(drop=True, inplace=True)\n",
    "for i in range(df_route_count.shape[0]):\n",
    "    df_route_count.loc[i, 'Id'] = int(i)\n",
    "    df_route_count.loc[i, 'Name'] = 'Route%i' % (i+1)"
   ]
  },
  {
   "cell_type": "code",
   "execution_count": 66,
   "metadata": {},
   "outputs": [],
   "source": [
    "df_route_count.to_csv('Route.csv', index=False)"
   ]
  },
  {
   "cell_type": "code",
   "execution_count": 60,
   "metadata": {},
   "outputs": [],
   "source": [
    "# route_set = list(set(list(GH_route.keys()) + list(NGH_route.keys())))\n",
    "df_route1 = pd.DataFrame(columns=['Route', 'Mel', 'Con'])\n",
    "i = 0\n",
    "for j in range(df_route_count.shape[0]):\n",
    "    if df_route_count.iloc[j]['Route'] in route_set1:\n",
    "        r = df_route_count.iloc[j]['Route']\n",
    "\n",
    "        df_route1.loc[i, 'Route'] = df_route_count.iloc[j]['Name']\n",
    "        df_route1.loc[i, 'Mel'] = 'NGH'\n",
    "        df_route1.loc[i, 'Con'] = NGH_route[r] if r in NGH_route.keys() else 0\n",
    "        i += 1\n",
    "\n",
    "        df_route1.loc[i, 'Route'] = df_route_count.iloc[j]['Name']\n",
    "        df_route1.loc[i, 'Mel'] = 'GH'\n",
    "        df_route1.loc[i, 'Con'] = GH_route[r] if r in GH_route.keys() else 0\n",
    "        i += 1"
   ]
  },
  {
   "cell_type": "code",
   "execution_count": 61,
   "metadata": {},
   "outputs": [
    {
     "data": {
      "image/png": "[encoded data removed]",
      "text/plain": [
       "<Figure size 640x480 with 1 Axes>"
      ]
     },
     "metadata": {},
     "output_type": "display_data"
    }
   ],
   "source": [
    "ax = sns.barplot(y=\"Con\", x='Route', hue='Mel', data=df_route1, errorbar=('ci', 0))\n",
    "# ax.set_ylim(0, 1)\n",
    "ax.set_ylabel('Count')\n",
    "# plt.savefig('Routes.png', dpi=300)\n",
    "plt.show()"
   ]
  },
  {
   "cell_type": "code",
   "execution_count": 62,
   "metadata": {},
   "outputs": [],
   "source": [
    "# route_set = list(set(list(GH_route.keys()) + list(NGH_route.keys())))\n",
    "df_route3 = pd.DataFrame(columns=['Route', 'Mel', 'Con'])\n",
    "i = 0\n",
    "for j in range(df_route_count.shape[0]):\n",
    "    if df_route_count.iloc[j]['Route'] in route_set2:\n",
    "        r = df_route_count.iloc[j]['Route']\n",
    "\n",
    "        df_route3.loc[i, 'Route'] = df_route_count.iloc[j]['Name']\n",
    "        df_route3.loc[i, 'Mel'] = 'NGH in Case 1'\n",
    "        df_route3.loc[i, 'Con'] = NGH_route[r] if r in NGH_route.keys() else 0\n",
    "        i += 1\n",
    "        \n",
    "        df_route3.loc[i, 'Route'] = df_route_count.iloc[j]['Name']\n",
    "        df_route3.loc[i, 'Mel'] = 'GH in Case 1'\n",
    "        df_route3.loc[i, 'Con'] = GH_route[r] if r in GH_route.keys() else 0\n",
    "        i += 1\n",
    "\n",
    "        df_route3.loc[i, 'Route'] = df_route_count.iloc[j]['Name']\n",
    "        df_route3.loc[i, 'Mel'] = 'NGH in Case 2'\n",
    "        df_route3.loc[i, 'Con'] = NGH_route2[r] if r in NGH_route2.keys() else 0\n",
    "        i += 1\n",
    "\n",
    "        df_route3.loc[i, 'Route'] = df_route_count.iloc[j]['Name']\n",
    "        df_route3.loc[i, 'Mel'] = 'GH in Case 2'\n",
    "        df_route3.loc[i, 'Con'] = GH_route2[r] if r in GH_route2.keys() else 0\n",
    "        i += 1"
   ]
  },
  {
   "cell_type": "code",
   "execution_count": 63,
   "metadata": {},
   "outputs": [
    {
     "data": {
      "image/png": "[encoded data removed]",
      "text/plain": [
       "<Figure size 640x480 with 1 Axes>"
      ]
     },
     "metadata": {},
     "output_type": "display_data"
    }
   ],
   "source": [
    "ax = sns.barplot(y=\"Con\", x='Route', hue='Mel', data=df_route3, palette=['deepskyblue', 'blue', 'red', 'darkred'])\n",
    "ax.set_yticks(range(0, 20, 2))\n",
    "ax.set_yticklabels(range(0, 20, 2), rotation=0)\n",
    "ax.set_ylabel('Count')\n",
    "plt.savefig('Routes_total.png', dpi=300)\n",
    "plt.show()"
   ]
  },
  {
   "cell_type": "code",
   "execution_count": 64,
   "metadata": {},
   "outputs": [],
   "source": [
    "# route_set = list(set(list(GH_route.keys()) + list(NGH_route.keys())))\n",
    "df_route2 = pd.DataFrame(columns=['Route', 'Mel', 'Con'])\n",
    "i = 0\n",
    "for j in range(df_route_count.shape[0]):\n",
    "    if df_route_count.iloc[j]['Route'] in route_set2:\n",
    "        r = df_route_count.iloc[j]['Route']\n",
    "\n",
    "        df_route2.loc[i, 'Route'] = df_route_count.iloc[j]['Name']\n",
    "        df_route2.loc[i, 'Mel'] = 'NGH'\n",
    "        df_route2.loc[i, 'Con'] = NGH_route2[r] if r in NGH_route2.keys() else 0\n",
    "        i += 1\n",
    "\n",
    "        df_route2.loc[i, 'Route'] = df_route_count.iloc[j]['Name']\n",
    "        df_route2.loc[i, 'Mel'] = 'GH'\n",
    "        df_route2.loc[i, 'Con'] = GH_route2[r] if r in GH_route2.keys() else 0\n",
    "        i += 1"
   ]
  },
  {
   "cell_type": "code",
   "execution_count": 65,
   "metadata": {},
   "outputs": [
    {
     "data": {
      "image/png": "[encoded data removed]",
      "text/plain": [
       "<Figure size 640x480 with 1 Axes>"
      ]
     },
     "metadata": {},
     "output_type": "display_data"
    }
   ],
   "source": [
    "ax = sns.barplot(y=\"Con\", x='Route', hue='Mel', data=df_route2, errorbar=('ci', 0))\n",
    "# ax.set_ylim(0, 1)\n",
    "ax.set_ylabel('Count')\n",
    "# plt.savefig('Routes.png', dpi=300)\n",
    "plt.show()"
   ]
  }
 ],
 "metadata": {
  "kernelspec": {
   "display_name": "Python 3",
   "language": "python",
   "name": "python3"
  },
  "language_info": {
   "codemirror_mode": {
    "name": "ipython",
    "version": 3
   },
   "file_extension": ".py",
   "mimetype": "text/x-python",
   "name": "python",
   "nbconvert_exporter": "python",
   "pygments_lexer": "ipython3",
   "version": "3.9.2"
  }
 },
 "nbformat": 4,
 "nbformat_minor": 2
}
