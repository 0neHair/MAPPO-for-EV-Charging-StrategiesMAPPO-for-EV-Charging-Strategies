{
 "cells": [
  {
   "cell_type": "code",
   "execution_count": 1,
   "metadata": {},
   "outputs": [],
   "source": [
    "import numpy as np\n",
    "np.random.seed(0)\n",
    "from env.EV_Sce_Env import EV_Sce_Env\n",
    "\n",
    "env = EV_Sce_Env('test_2', seed=0, ps=False)"
   ]
  },
  {
   "cell_type": "code",
   "execution_count": 2,
   "metadata": {},
   "outputs": [
    {
     "name": "stdout",
     "output_type": "stream",
     "text": [
      "[1.5, 0.05, 0.1, 0.15, 0.2, 0.25, 0.3, 0.35, 0.4, 0.45, 0.5, 0.55, 0.6, 0.65, 0.7, 0.75, 0.8, 0.85, 0.9, 0.95, 1.0]\n"
     ]
    }
   ],
   "source": [
    "env.reset()\n",
    "agents_total_reward = np.array([0.0 for _ in range(env.agent_num)])\n",
    "print(env.caction_list)"
   ]
  },
  {
   "cell_type": "code",
   "execution_count": 3,
   "metadata": {},
   "outputs": [
    {
     "data": {
      "text/plain": [
       "(array([[0. , 0.4, 0.5, 0. , 0. , 0. , 1. , 0. , 0. , 0. ],\n",
       "        [0. , 0.4, 0.5, 0. , 0. , 0. , 1. , 0. , 0. , 0. ]], dtype=float32),\n",
       " array([[[0., 0.],\n",
       "         [0., 1.],\n",
       "         [0., 0.],\n",
       "         [0., 0.],\n",
       "         [0., 0.]],\n",
       " \n",
       "        [[0., 0.],\n",
       "         [0., 1.],\n",
       "         [0., 0.],\n",
       "         [0., 0.],\n",
       "         [0., 0.]]], dtype=float32),\n",
       " array([[0., 0., 1., 0., 1.],\n",
       "        [0., 0., 1., 0., 1.]], dtype=float32),\n",
       " array([0.4, 0.5, 0. , 0. , 0. , 1. , 0. , 0. , 0. , 0.4, 0.5, 0. , 0. ,\n",
       "        0. , 1. , 0. , 0. , 0. , 0. , 0. , 0. , 0. , 0. ], dtype=float32),\n",
       " array([[0., 0., 0., 0.],\n",
       "        [0., 0., 1., 1.],\n",
       "        [0., 0., 0., 0.],\n",
       "        [0., 0., 0., 0.],\n",
       "        [0., 0., 0., 0.]], dtype=float32),\n",
       " array([[0.],\n",
       "        [0.]], dtype=float32),\n",
       " array([[0.],\n",
       "        [0.]], dtype=float32),\n",
       " array([[-40.],\n",
       "        [-40.]], dtype=float32),\n",
       " array([0., 0.], dtype=float32),\n",
       " array([0., 0.], dtype=float32),\n",
       " [0, 1],\n",
       " [True, True],\n",
       " [],\n",
       " [])"
      ]
     },
     "execution_count": 3,
     "metadata": {},
     "output_type": "execute_result"
    }
   ],
   "source": [
    "env.step(([10, 0], [4, 4]))"
   ]
  },
  {
   "cell_type": "code",
   "execution_count": 4,
   "metadata": {},
   "outputs": [
    {
     "name": "stdout",
     "output_type": "stream",
     "text": [
      "Time: 0.41 h\n",
      "EV_0:\n",
      "\t SOC:0.400%   Pos:0-1   Reward:-40.00000   Using time:0.400h   Charing times:0   Charing SOC:0.000%\n",
      "\t Action_list:  [1]\n",
      "\t Action_type:  ['r']\n",
      "\t Route:  ['0-1']\n",
      "EV_1:\n",
      "\t SOC:0.400%   Pos:0-1   Reward:-40.00000   Using time:0.400h   Charing times:0   Charing SOC:0.000%\n",
      "\t Action_list:  [1]\n",
      "\t Action_type:  ['r']\n",
      "\t Route:  ['0-1']\n",
      "CS_0: 0.000\t0.000\t\n",
      "CS_1: 0.000\t0.000\t\n",
      "CS_2: 0.000\t0.000\t\n",
      "CS_3: 0.000\t0.000\t\n",
      "CS_4: 0.000\t0.000\t\n",
      "Global_inf:  [0. 0. 0. 0. 0.]\n"
     ]
    }
   ],
   "source": [
    "env.render()"
   ]
  }
 ],
 "metadata": {
  "kernelspec": {
   "display_name": "Python 3",
   "language": "python",
   "name": "python3"
  },
  "language_info": {
   "codemirror_mode": {
    "name": "ipython",
    "version": 3
   },
   "file_extension": ".py",
   "mimetype": "text/x-python",
   "name": "python",
   "nbconvert_exporter": "python",
   "pygments_lexer": "ipython3",
   "version": "3.11.9"
  }
 },
 "nbformat": 4,
 "nbformat_minor": 2
}
